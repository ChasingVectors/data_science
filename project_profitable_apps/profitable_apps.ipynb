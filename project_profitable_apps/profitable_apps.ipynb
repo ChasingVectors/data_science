{
 "cells": [
  {
   "cell_type": "markdown",
   "id": "6b474fdb-4c47-41bf-be84-d738d9c89c1d",
   "metadata": {},
   "source": [
    "# Profitable App Profiles for the App Store and Google Play Markets\n",
    "\n",
    "Our aim in this project is to find mobile app profiles that are profitable for the App Store and Google Play markets. We're working as data analysts for a company that builds Android and iOS mobile apps, and our job is to enable our team of developers to make data-driven decisions with respect to the kind of apps they build.\n",
    "\n",
    "## Dataset used\n",
    "\n",
    "* A [Data set](https://www.kaggle.com/datasets/lava18/google-play-store-apps) containing data about approximately ten thousand Android apps from Google Play.\n",
    "* A [Data set](https://www.kaggle.com/datasets/ramamet4/app-store-apple-data-set-10k-apps) containing data about approximately seven thousand iOS apps from the App Store.\n",
    "\n",
    "Let's first explore the two datasets"
   ]
  },
  {
   "cell_type": "code",
   "execution_count": 10,
   "id": "e3a5a44e-137a-408a-8e73-b65b0c206255",
   "metadata": {},
   "outputs": [],
   "source": [
    "from csv import reader\n",
    "\n",
    "# Google Play data set\n",
    "opened_file = open('googleplaystore.csv')\n",
    "read_file = reader(opened_file)\n",
    "android = list(read_file)\n",
    "android_header = android[0]\n",
    "android = android[1:]\n",
    "\n",
    "# Apple data set\n",
    "opened_file = open('AppleStore.csv')\n",
    "read_file = reader(opened_file)\n",
    "ios = list(read_file)\n",
    "ios_header = ios[0]\n",
    "ios = ios[1:]"
   ]
  },
  {
   "cell_type": "markdown",
   "id": "6f711b2b-917d-4720-980d-f4d21c2323ca",
   "metadata": {},
   "source": [
    "To make it easier to explore the two data sets, we'll first write a function named explore_data() that we can use repeatedly to explore rows in a more readable way. We'll also add an option for our function to show the number of rows and columns for any data set."
   ]
  },
  {
   "cell_type": "code",
   "execution_count": 12,
   "id": "a031812c-9147-495d-bc19-4101e801c32d",
   "metadata": {},
   "outputs": [],
   "source": [
    "def explore_data(dataset, start, end, rows_and_columns=False):\n",
    "    dataset_slice = dataset[start:end]    \n",
    "    for row in dataset_slice:\n",
    "        print(row)\n",
    "        print('\\n') # adds a new (empty) line after each row\n",
    "\n",
    "    if rows_and_columns:\n",
    "        print('Number of rows:', len(dataset))\n",
    "        print('Number of columns:', len(dataset[0]))"
   ]
  },
  {
   "cell_type": "code",
   "execution_count": 13,
   "id": "9344c55f-71f6-4a1b-9496-9a1a1f72fde6",
   "metadata": {},
   "outputs": [
    {
     "name": "stdout",
     "output_type": "stream",
     "text": [
      "['App', 'Category', 'Rating', 'Reviews', 'Size', 'Installs', 'Type', 'Price', 'Content Rating', 'Genres', 'Last Updated', 'Current Ver', 'Android Ver']\n",
      "\n",
      "\n",
      "['Photo Editor & Candy Camera & Grid & ScrapBook', 'ART_AND_DESIGN', '4.1', '159', '19M', '10,000+', 'Free', '0', 'Everyone', 'Art & Design', 'January 7, 2018', '1.0.0', '4.0.3 and up']\n",
      "\n",
      "\n",
      "['Coloring book moana', 'ART_AND_DESIGN', '3.9', '967', '14M', '500,000+', 'Free', '0', 'Everyone', 'Art & Design;Pretend Play', 'January 15, 2018', '2.0.0', '4.0.3 and up']\n",
      "\n",
      "\n",
      "['U Launcher Lite – FREE Live Cool Themes, Hide Apps', 'ART_AND_DESIGN', '4.7', '87510', '8.7M', '5,000,000+', 'Free', '0', 'Everyone', 'Art & Design', 'August 1, 2018', '1.2.4', '4.0.3 and up']\n",
      "\n",
      "\n",
      "Number of rows: 10841\n",
      "Number of columns: 13\n"
     ]
    }
   ],
   "source": [
    "print(android_header)\n",
    "print('\\n')\n",
    "explore_data(android, 0, 3, True)"
   ]
  },
  {
   "cell_type": "markdown",
   "id": "4fa7731d-9749-48ac-b25b-aa65842e94a6",
   "metadata": {},
   "source": [
    "The columns that we will use for our analysis are: `App`, `Category`, `Reviews`, `Installs`, `Type`, `Price` and `Genres`.\n",
    "\n",
    "Let's now take a look at the App Store data set:"
   ]
  },
  {
   "cell_type": "code",
   "execution_count": 15,
   "id": "b7229495-a3a7-4eda-b516-c37451dac826",
   "metadata": {},
   "outputs": [
    {
     "name": "stdout",
     "output_type": "stream",
     "text": [
      "['id', 'track_name', 'size_bytes', 'currency', 'price', 'rating_count_tot', 'rating_count_ver', 'user_rating', 'user_rating_ver', 'ver', 'cont_rating', 'prime_genre', 'sup_devices.num', 'ipadSc_urls.num', 'lang.num', 'vpp_lic']\n",
      "\n",
      "\n",
      "['284882215', 'Facebook', '389879808', 'USD', '0.0', '2974676', '212', '3.5', '3.5', '95.0', '4+', 'Social Networking', '37', '1', '29', '1']\n",
      "\n",
      "\n",
      "['389801252', 'Instagram', '113954816', 'USD', '0.0', '2161558', '1289', '4.5', '4.0', '10.23', '12+', 'Photo & Video', '37', '0', '29', '1']\n",
      "\n",
      "\n",
      "['529479190', 'Clash of Clans', '116476928', 'USD', '0.0', '2130805', '579', '4.5', '4.5', '9.24.12', '9+', 'Games', '38', '5', '18', '1']\n",
      "\n",
      "\n",
      "Number of rows: 7197\n",
      "Number of columns: 16\n"
     ]
    }
   ],
   "source": [
    "print(ios_header)\n",
    "print('\\n')\n",
    "explore_data(ios, 0, 3, True)"
   ]
  },
  {
   "cell_type": "markdown",
   "id": "ac0ddb7d-0175-40c2-8594-9adf46d6cb46",
   "metadata": {},
   "source": [
    "The columns that we will use in our analysis are: `track_name`, `currency`, `price`, `rating_count_tot`, `rating_count_ver` and `prime_genre`."
   ]
  },
  {
   "cell_type": "markdown",
   "id": "bd1b5473-e8f4-4e5b-a23c-22e0872a5831",
   "metadata": {},
   "source": [
    "## Data Cleaning - Deleting wrong data"
   ]
  },
  {
   "cell_type": "code",
   "execution_count": 18,
   "id": "6d9ae1fe-5bad-45ad-8e89-0f9e2a0358e2",
   "metadata": {},
   "outputs": [
    {
     "name": "stdout",
     "output_type": "stream",
     "text": [
      "['App', 'Category', 'Rating', 'Reviews', 'Size', 'Installs', 'Type', 'Price', 'Content Rating', 'Genres', 'Last Updated', 'Current Ver', 'Android Ver']\n",
      "\n",
      "\n",
      "['Life Made WI-Fi Touchscreen Photo Frame', '1.9', '19', '3.0M', '1,000+', 'Free', '0', 'Everyone', '', 'February 11, 2018', '1.0.19', '4.0 and up']\n"
     ]
    }
   ],
   "source": [
    "print(android_header)\n",
    "print('\\n')\n",
    "print(android[10472])"
   ]
  },
  {
   "cell_type": "markdown",
   "id": "ee2fd3d4-e798-4113-be72-17534121abe7",
   "metadata": {},
   "source": [
    "The row 10472 corresponds to the app Life Made WI-Fi Touchscreen Photo Frame, and we can see that the rating is 19. This is clearly off because the maximum rating for a Google Play app is 5. We will therefore delete this row."
   ]
  },
  {
   "cell_type": "code",
   "execution_count": 20,
   "id": "3562de52-c523-4b5d-a511-4d8e677ee937",
   "metadata": {},
   "outputs": [
    {
     "name": "stdout",
     "output_type": "stream",
     "text": [
      "Rows before cleaning: 10841\n",
      "Rows after cleaning: 10840\n"
     ]
    }
   ],
   "source": [
    "print(f'Rows before cleaning: {len(android)}')\n",
    "del android[10472]\n",
    "print(f'Rows after cleaning: {len(android)}')"
   ]
  },
  {
   "cell_type": "markdown",
   "id": "3cf214e5-970c-4469-bd05-4bc4c9a69d48",
   "metadata": {},
   "source": [
    "## Data Cleaning - Removing duplicate entries\n",
    "\n",
    "### Part One\n",
    "\n",
    "If we explore the Google Play data set long enough, we'll find that some apps have more than one entry. For instance, the application Instagram has four entries:\n"
   ]
  },
  {
   "cell_type": "code",
   "execution_count": 22,
   "id": "63973797-1bb2-460c-9c14-bdce443ec519",
   "metadata": {},
   "outputs": [
    {
     "name": "stdout",
     "output_type": "stream",
     "text": [
      "['Instagram', 'SOCIAL', '4.5', '66577313', 'Varies with device', '1,000,000,000+', 'Free', '0', 'Teen', 'Social', 'July 31, 2018', 'Varies with device', 'Varies with device']\n",
      "['Instagram', 'SOCIAL', '4.5', '66577446', 'Varies with device', '1,000,000,000+', 'Free', '0', 'Teen', 'Social', 'July 31, 2018', 'Varies with device', 'Varies with device']\n",
      "['Instagram', 'SOCIAL', '4.5', '66577313', 'Varies with device', '1,000,000,000+', 'Free', '0', 'Teen', 'Social', 'July 31, 2018', 'Varies with device', 'Varies with device']\n",
      "['Instagram', 'SOCIAL', '4.5', '66509917', 'Varies with device', '1,000,000,000+', 'Free', '0', 'Teen', 'Social', 'July 31, 2018', 'Varies with device', 'Varies with device']\n"
     ]
    }
   ],
   "source": [
    "for app in android:\n",
    "    name = app[0]\n",
    "    if name == 'Instagram':\n",
    "        print(app)"
   ]
  },
  {
   "cell_type": "markdown",
   "id": "2e384404-7551-4529-9f04-7dc6a38dfc7d",
   "metadata": {},
   "source": [
    "Let's verify how many duplicate apps we have:"
   ]
  },
  {
   "cell_type": "code",
   "execution_count": 24,
   "id": "b6365587-6e5b-4199-baca-29c9abbac6a4",
   "metadata": {},
   "outputs": [
    {
     "name": "stdout",
     "output_type": "stream",
     "text": [
      "Number of duplicate apps: 1181\n",
      "\n",
      "\n",
      "Example of duplicate apps: ['Quick PDF Scanner + OCR FREE', 'Box', 'Google My Business', 'ZOOM Cloud Meetings', 'join.me - Simple Meetings', 'Box', 'Zenefits', 'Google Ads', 'Google My Business', 'Slack', 'FreshBooks Classic', 'Insightly CRM', 'QuickBooks Accounting: Invoicing & Expenses', 'HipChat - Chat Built for Teams', 'Xero Accounting Software']\n"
     ]
    }
   ],
   "source": [
    "duplicate_apps = []\n",
    "unique_apps = []\n",
    "\n",
    "for app in android:\n",
    "    name = app[0]\n",
    "    if name in unique_apps:\n",
    "        duplicate_apps.append(name)\n",
    "    else:\n",
    "        unique_apps.append(name)\n",
    "\n",
    "print(f'Number of duplicate apps: {len(duplicate_apps)}')\n",
    "print('\\n')\n",
    "print(f'Example of duplicate apps: {duplicate_apps[:15]}')"
   ]
  },
  {
   "cell_type": "markdown",
   "id": "56cf27bb-e2b9-47ee-986a-ec039d2d2f47",
   "metadata": {},
   "source": [
    "We don't want to count certain apps more than once when we analyze data, so we need to remove the duplicate entries and keep only one entry per app. One thing we could do is remove the duplicate rows randomly, but we could probably find a better way.\n",
    "\n",
    "If you examine the rows we printed two cells above for the Instagram app, the main difference happens on the fourth position of each row, which corresponds to the number of reviews. The different numbers show that the data was collected at different times. We can use this to build a criterion for keeping rows. We won't remove rows randomly, but rather we'll keep the rows that have the highest number of reviews because the higher the number of reviews, the more reliable the ratings.\n",
    "\n",
    "To do that, we will:\n",
    "\n",
    "* Create a dictionary where each key is a unique app name, and the value is the highest number of reviews of that app.\n",
    "* Use the dictionary to create a new data set, which will have only one entry per app (and we only select the apps with the highest number of reviews).\n",
    "\n",
    "### Part Two\n",
    "\n",
    "Let's start by building the dictionary and use the reviews_max dictionary to remove the duplicates. For the duplicate cases, we'll only keep the entries with the highest number of reviews."
   ]
  },
  {
   "cell_type": "code",
   "execution_count": 26,
   "id": "bdfac366-a5c5-4daf-8a36-0bf37905e8b0",
   "metadata": {},
   "outputs": [],
   "source": [
    "reviews_max = {}\n",
    "\n",
    "for app in android:\n",
    "    name = app[0]\n",
    "    n_reviews = float(app[3])\n",
    "    \n",
    "    if name in reviews_max:\n",
    "        if reviews_max[name] < n_reviews:\n",
    "            reviews_max[name] = n_reviews\n",
    "    else:\n",
    "        reviews_max[name] = n_reviews\n",
    "\n",
    "android_clean = []\n",
    "already_added = []\n",
    "\n",
    "for app in android:\n",
    "    name = app[0]\n",
    "    n_reviews = float(app[3])\n",
    "\n",
    "    if n_reviews == reviews_max[name] and (name not in already_added):\n",
    "        android_clean.append(app)\n",
    "        already_added.append(name)"
   ]
  },
  {
   "cell_type": "markdown",
   "id": "6b042d5c-78bd-45de-9df0-ebd7af272af2",
   "metadata": {},
   "source": [
    "Now let's quickly explore the new data set, and confirm that the number of rows is 9,659."
   ]
  },
  {
   "cell_type": "code",
   "execution_count": 28,
   "id": "3c268d45-5e8a-4ab0-a2f4-48a5a8138dce",
   "metadata": {
    "scrolled": true
   },
   "outputs": [
    {
     "name": "stdout",
     "output_type": "stream",
     "text": [
      "['Photo Editor & Candy Camera & Grid & ScrapBook', 'ART_AND_DESIGN', '4.1', '159', '19M', '10,000+', 'Free', '0', 'Everyone', 'Art & Design', 'January 7, 2018', '1.0.0', '4.0.3 and up']\n",
      "\n",
      "\n",
      "['U Launcher Lite – FREE Live Cool Themes, Hide Apps', 'ART_AND_DESIGN', '4.7', '87510', '8.7M', '5,000,000+', 'Free', '0', 'Everyone', 'Art & Design', 'August 1, 2018', '1.2.4', '4.0.3 and up']\n",
      "\n",
      "\n",
      "['Sketch - Draw & Paint', 'ART_AND_DESIGN', '4.5', '215644', '25M', '50,000,000+', 'Free', '0', 'Teen', 'Art & Design', 'June 8, 2018', 'Varies with device', '4.2 and up']\n",
      "\n",
      "\n",
      "Number of rows: 9659\n",
      "Number of columns: 13\n"
     ]
    }
   ],
   "source": [
    "explore_data(android_clean, 0, 3, True)"
   ]
  },
  {
   "cell_type": "markdown",
   "id": "27233b4d-44cc-483e-9c88-55dc94864330",
   "metadata": {},
   "source": [
    "We have 9659 rows, just as expected."
   ]
  },
  {
   "cell_type": "markdown",
   "id": "ae189570-1b9d-485f-a9c0-22070e4fc265",
   "metadata": {},
   "source": [
    "## Data Cleaning - Removing Non-English Apps\n",
    "\n",
    "### Part One\n",
    "\n",
    "If you explore the data sets enough, you'll notice the names of some of the apps suggest they are not directed toward an English-speaking audience. We built this function below, and we use the built-in ord() function to find out the corresponding encoding number of each character."
   ]
  },
  {
   "cell_type": "code",
   "execution_count": 58,
   "id": "e60d2836-a97c-4583-bc46-9c6eafd7cecc",
   "metadata": {},
   "outputs": [],
   "source": [
    "def string_english(word: str):\n",
    "    non_english_char = 0\n",
    "    for char in word:\n",
    "        if ord(char) > 127:\n",
    "            non_english_char += 1\n",
    "\n",
    "    if non_english_char > 3:\n",
    "        return False\n",
    "    else:\n",
    "        return True"
   ]
  },
  {
   "cell_type": "markdown",
   "id": "3c997141-8e9b-4922-a763-ba8dabe355d5",
   "metadata": {},
   "source": [
    "### Part Two\n",
    "\n",
    "To minimize the impact of data loss, we'll only remove an app if its name has more than three non-ASCII characters:"
   ]
  },
  {
   "cell_type": "code",
   "execution_count": 72,
   "id": "597a313f-f655-4fd9-9bb3-9f117a45ebbd",
   "metadata": {},
   "outputs": [
    {
     "name": "stdout",
     "output_type": "stream",
     "text": [
      "['Photo Editor & Candy Camera & Grid & ScrapBook', 'ART_AND_DESIGN', '4.1', '159', '19M', '10,000+', 'Free', '0', 'Everyone', 'Art & Design', 'January 7, 2018', '1.0.0', '4.0.3 and up']\n",
      "\n",
      "\n",
      "['U Launcher Lite – FREE Live Cool Themes, Hide Apps', 'ART_AND_DESIGN', '4.7', '87510', '8.7M', '5,000,000+', 'Free', '0', 'Everyone', 'Art & Design', 'August 1, 2018', '1.2.4', '4.0.3 and up']\n",
      "\n",
      "\n",
      "['Sketch - Draw & Paint', 'ART_AND_DESIGN', '4.5', '215644', '25M', '50,000,000+', 'Free', '0', 'Teen', 'Art & Design', 'June 8, 2018', 'Varies with device', '4.2 and up']\n",
      "\n",
      "\n",
      "Number of rows: 9614\n",
      "Number of columns: 13\n",
      "\n",
      "\n",
      "['284882215', 'Facebook', '389879808', 'USD', '0.0', '2974676', '212', '3.5', '3.5', '95.0', '4+', 'Social Networking', '37', '1', '29', '1']\n",
      "\n",
      "\n",
      "['389801252', 'Instagram', '113954816', 'USD', '0.0', '2161558', '1289', '4.5', '4.0', '10.23', '12+', 'Photo & Video', '37', '0', '29', '1']\n",
      "\n",
      "\n",
      "['529479190', 'Clash of Clans', '116476928', 'USD', '0.0', '2130805', '579', '4.5', '4.5', '9.24.12', '9+', 'Games', '38', '5', '18', '1']\n",
      "\n",
      "\n",
      "Number of rows: 6183\n",
      "Number of columns: 16\n"
     ]
    }
   ],
   "source": [
    "android_english = []\n",
    "ios_english = []\n",
    "\n",
    "for app in android_clean:\n",
    "    if string_english(app[0]):\n",
    "        android_english.append(app)\n",
    "\n",
    "for app in ios:\n",
    "    if string_english(app[1]):\n",
    "        ios_english.append(app)\n",
    "\n",
    "explore_data(android_english, 0, 3, True)\n",
    "print('\\n')\n",
    "explore_data(ios_english, 0, 3, True)"
   ]
  },
  {
   "cell_type": "markdown",
   "id": "d4c95756-fcbf-4b33-abcc-29a5ccb0d5e3",
   "metadata": {},
   "source": [
    "We are left with 9614 Android apps and 6183 iOS apps."
   ]
  },
  {
   "cell_type": "markdown",
   "id": "d6e567b7-e556-4783-8ada-ea169686a3f1",
   "metadata": {},
   "source": [
    "## Data Cleaning - Isolating the Free Apps\n",
    "\n",
    "We only build apps that are free to download and install, and our main source of revenue consists of in-app ads. Our data sets contain both free and non-free apps, and we'll need to isolate only the free apps for our analysis. Below, we isolate the free apps for both our data sets."
   ]
  },
  {
   "cell_type": "code",
   "execution_count": 87,
   "id": "c2f376fb-9d20-460a-8875-8b90fda707a5",
   "metadata": {},
   "outputs": [
    {
     "name": "stdout",
     "output_type": "stream",
     "text": [
      "8864\n",
      "3222\n"
     ]
    }
   ],
   "source": [
    "android_final = []\n",
    "ios_final = []\n",
    "\n",
    "for app in android_english:\n",
    "    if app[7] == '0':\n",
    "        android_final.append(app)\n",
    "\n",
    "for app in ios_english:\n",
    "    if app[4] == '0.0':\n",
    "        ios_final.append(app)\n",
    "\n",
    "print(len(android_final))\n",
    "print(len(ios_final))"
   ]
  },
  {
   "cell_type": "markdown",
   "id": "e6ea70bf-2a2e-45b4-84c1-b5d622bb0a76",
   "metadata": {},
   "source": [
    "We're left with 8864 Android apps and 3222 iOS apps, which should be enough for our analysis."
   ]
  },
  {
   "cell_type": "markdown",
   "id": "ef3c722f-562f-4412-9c88-762e13945038",
   "metadata": {},
   "source": [
    "## Most Common Apps by Genre\n",
    "\n",
    "### Part One\n",
    "\n",
    "Our aim is to determine the kinds of apps that are likely to attract more users because our revenue is highly influenced by the number of people using our apps.\n",
    "\n",
    "To minimize risks and overhead, our validation strategy for an app idea is comprised of three steps:\n",
    "\n",
    "1. Build a minimal Android version of the app, and add it to Google Play.\n",
    "2. If the app has a good response from users, we then develop it further.\n",
    "3. If the app is profitable after six months, we also build an iOS version of the app and add it to the App Store.\n",
    "\n",
    "Because our end goal is to add the app on both the App Store and Google Play, we need to find app profiles that are successful on both markets. For instance, a profile that might work well for both markets might be a productivity app that makes use of gamification.\n",
    "\n",
    "Let's begin the analysis by getting a sense of the most common genres for each market. For this, we'll build a frequency table for the `prime_genre` column of the App Store data set, and the `Genres` and `Category` columns of the Google Play data set.\n",
    "\n",
    "### Part Two\n",
    "\n",
    "We'll build two functions we can use to analyze the frequency tables:\n",
    "\n",
    "* One function to generate frequency tables that show percentages\n",
    "* Another function that we can use to display the percentages in a descending order"
   ]
  },
  {
   "cell_type": "code",
   "execution_count": 109,
   "id": "98999529-2933-477b-83f7-72d7af1da78a",
   "metadata": {},
   "outputs": [],
   "source": [
    "def freq_table(dataset: list, index: int):\n",
    "    table = {}\n",
    "    total = 0\n",
    "\n",
    "    for row in dataset:\n",
    "        total += 1\n",
    "        value = row[index]\n",
    "        if value in table:\n",
    "            table[value] += 1\n",
    "        else:\n",
    "            table[value] = 1\n",
    "\n",
    "    table_percentages = {}\n",
    "    for key in table:\n",
    "        percentage = (table[key] / total) * 100\n",
    "        table_percentages[key] = percentage\n",
    "\n",
    "    return table_percentages\n",
    "\n",
    "def display_table(dataset, index):\n",
    "    table = freq_table(dataset, index)\n",
    "    table_display = []\n",
    "    for key, value in table.items():\n",
    "        table_display.append((value, key))\n",
    "\n",
    "    table_sorted = sorted(table_display, reverse = True)\n",
    "    for entry in table_sorted:\n",
    "        print(f'{entry[1]} : {round(entry[0], 2)}%')"
   ]
  },
  {
   "cell_type": "markdown",
   "id": "55c54aa7-2095-4f2e-80fe-89b52aa7aca1",
   "metadata": {},
   "source": [
    "### Part Three\n",
    "\n",
    "We start by examining the frequency table for the `prime_genre` column of the App Store data set."
   ]
  },
  {
   "cell_type": "code",
   "execution_count": 112,
   "id": "a73de70d-eba5-4311-827c-f2f5bee719d4",
   "metadata": {},
   "outputs": [
    {
     "name": "stdout",
     "output_type": "stream",
     "text": [
      "Games : 58.16%\n",
      "Entertainment : 7.88%\n",
      "Photo & Video : 4.97%\n",
      "Education : 3.66%\n",
      "Social Networking : 3.29%\n",
      "Shopping : 2.61%\n",
      "Utilities : 2.51%\n",
      "Sports : 2.14%\n",
      "Music : 2.05%\n",
      "Health & Fitness : 2.02%\n",
      "Productivity : 1.74%\n",
      "Lifestyle : 1.58%\n",
      "News : 1.33%\n",
      "Travel : 1.24%\n",
      "Finance : 1.12%\n",
      "Weather : 0.87%\n",
      "Food & Drink : 0.81%\n",
      "Reference : 0.56%\n",
      "Business : 0.53%\n",
      "Book : 0.43%\n",
      "Navigation : 0.19%\n",
      "Medical : 0.19%\n",
      "Catalogs : 0.12%\n"
     ]
    }
   ],
   "source": [
    "display_table(ios_final, -5)"
   ]
  },
  {
   "cell_type": "markdown",
   "id": "6e354316-979a-483c-9ceb-255c3908d3ab",
   "metadata": {},
   "source": [
    "We can see that among the free English apps, more than a half (58.16%) are games. Entertainment apps are close to 8%, followed by photo and video apps, which are close to 5%. Only 3.66% of the apps are designed for education, followed by social networking apps which amount for 3.29% of the apps in our data set.\n",
    "\n",
    "The general impression is that App Store (at least the part containing free English apps) is dominated by apps that are designed for fun (games, entertainment, photo and video, social networking, sports, music, etc.), while apps with practical purposes (education, shopping, utilities, productivity, lifestyle, etc.) are more rare. However, the fact that fun apps are the most numerous doesn't also imply that they also have the greatest number of users — the demand might not be the same as the offer.\n",
    "\n",
    "Let's continue by examining the `Genres` and `Category` columns of the Google Play data set (two columns which seem to be related)."
   ]
  },
  {
   "cell_type": "code",
   "execution_count": 115,
   "id": "71938cdf-41c6-4282-8896-a1b02bba49bd",
   "metadata": {},
   "outputs": [
    {
     "name": "stdout",
     "output_type": "stream",
     "text": [
      "FAMILY : 18.91%\n",
      "GAME : 9.72%\n",
      "TOOLS : 8.46%\n",
      "BUSINESS : 4.59%\n",
      "LIFESTYLE : 3.9%\n",
      "PRODUCTIVITY : 3.89%\n",
      "FINANCE : 3.7%\n",
      "MEDICAL : 3.53%\n",
      "SPORTS : 3.4%\n",
      "PERSONALIZATION : 3.32%\n",
      "COMMUNICATION : 3.24%\n",
      "HEALTH_AND_FITNESS : 3.08%\n",
      "PHOTOGRAPHY : 2.94%\n",
      "NEWS_AND_MAGAZINES : 2.8%\n",
      "SOCIAL : 2.66%\n",
      "TRAVEL_AND_LOCAL : 2.34%\n",
      "SHOPPING : 2.25%\n",
      "BOOKS_AND_REFERENCE : 2.14%\n",
      "DATING : 1.86%\n",
      "VIDEO_PLAYERS : 1.79%\n",
      "MAPS_AND_NAVIGATION : 1.4%\n",
      "FOOD_AND_DRINK : 1.24%\n",
      "EDUCATION : 1.16%\n",
      "ENTERTAINMENT : 0.96%\n",
      "LIBRARIES_AND_DEMO : 0.94%\n",
      "AUTO_AND_VEHICLES : 0.93%\n",
      "HOUSE_AND_HOME : 0.82%\n",
      "WEATHER : 0.8%\n",
      "EVENTS : 0.71%\n",
      "PARENTING : 0.65%\n",
      "ART_AND_DESIGN : 0.64%\n",
      "COMICS : 0.62%\n",
      "BEAUTY : 0.6%\n"
     ]
    }
   ],
   "source": [
    "display_table(android_final, 1)"
   ]
  },
  {
   "cell_type": "markdown",
   "id": "35d32092-8e51-4079-912c-7925d931ef7d",
   "metadata": {},
   "source": [
    "The landscape seems significantly different on Google Play: there are not that many apps designed for fun, and it seems that a good number of apps are designed for practical purposes (family, tools, business, lifestyle, productivity, etc.). However, if we investigate this further, we can see that the family category (which accounts for almost 19% of the apps) means mostly games for kids.\n",
    "\n",
    "![Alt Text](https://camo.githubusercontent.com/6344f7bd5d170cf56a14576d7dac358670a48ca3e5a260e1f937b453344c8edd/68747470733a2f2f73332e616d617a6f6e6177732e636f6d2f64712d636f6e74656e742f3335302f7079316d385f66616d696c792e706e67)\n",
    "\n",
    "Even so, practical apps seem to have a better representation on Google Play compared to App Store. This picture is also confirmed by the frequency table we see for the `Genres` column:"
   ]
  },
  {
   "cell_type": "code",
   "execution_count": 121,
   "id": "0c3c4b34-24b0-4bd9-9e40-555896a6a27d",
   "metadata": {},
   "outputs": [
    {
     "name": "stdout",
     "output_type": "stream",
     "text": [
      "Tools : 8.45%\n",
      "Entertainment : 6.07%\n",
      "Education : 5.35%\n",
      "Business : 4.59%\n",
      "Productivity : 3.89%\n",
      "Lifestyle : 3.89%\n",
      "Finance : 3.7%\n",
      "Medical : 3.53%\n",
      "Sports : 3.46%\n",
      "Personalization : 3.32%\n",
      "Communication : 3.24%\n",
      "Action : 3.1%\n",
      "Health & Fitness : 3.08%\n",
      "Photography : 2.94%\n",
      "News & Magazines : 2.8%\n",
      "Social : 2.66%\n",
      "Travel & Local : 2.32%\n",
      "Shopping : 2.25%\n",
      "Books & Reference : 2.14%\n",
      "Simulation : 2.04%\n",
      "Dating : 1.86%\n",
      "Arcade : 1.85%\n",
      "Video Players & Editors : 1.77%\n",
      "Casual : 1.76%\n",
      "Maps & Navigation : 1.4%\n",
      "Food & Drink : 1.24%\n",
      "Puzzle : 1.13%\n",
      "Racing : 0.99%\n",
      "Role Playing : 0.94%\n",
      "Libraries & Demo : 0.94%\n",
      "Auto & Vehicles : 0.93%\n",
      "Strategy : 0.91%\n",
      "House & Home : 0.82%\n",
      "Weather : 0.8%\n",
      "Events : 0.71%\n",
      "Adventure : 0.68%\n",
      "Comics : 0.61%\n",
      "Beauty : 0.6%\n",
      "Art & Design : 0.6%\n",
      "Parenting : 0.5%\n",
      "Card : 0.45%\n",
      "Casino : 0.43%\n",
      "Trivia : 0.42%\n",
      "Educational;Education : 0.39%\n",
      "Board : 0.38%\n",
      "Educational : 0.37%\n",
      "Education;Education : 0.34%\n",
      "Word : 0.26%\n",
      "Casual;Pretend Play : 0.24%\n",
      "Music : 0.2%\n",
      "Racing;Action & Adventure : 0.17%\n",
      "Puzzle;Brain Games : 0.17%\n",
      "Entertainment;Music & Video : 0.17%\n",
      "Casual;Brain Games : 0.14%\n",
      "Casual;Action & Adventure : 0.14%\n",
      "Arcade;Action & Adventure : 0.12%\n",
      "Action;Action & Adventure : 0.1%\n",
      "Educational;Pretend Play : 0.09%\n",
      "Simulation;Action & Adventure : 0.08%\n",
      "Parenting;Education : 0.08%\n",
      "Entertainment;Brain Games : 0.08%\n",
      "Board;Brain Games : 0.08%\n",
      "Parenting;Music & Video : 0.07%\n",
      "Educational;Brain Games : 0.07%\n",
      "Casual;Creativity : 0.07%\n",
      "Art & Design;Creativity : 0.07%\n",
      "Education;Pretend Play : 0.06%\n",
      "Role Playing;Pretend Play : 0.05%\n",
      "Education;Creativity : 0.05%\n",
      "Role Playing;Action & Adventure : 0.03%\n",
      "Puzzle;Action & Adventure : 0.03%\n",
      "Entertainment;Creativity : 0.03%\n",
      "Entertainment;Action & Adventure : 0.03%\n",
      "Educational;Creativity : 0.03%\n",
      "Educational;Action & Adventure : 0.03%\n",
      "Education;Music & Video : 0.03%\n",
      "Education;Brain Games : 0.03%\n",
      "Education;Action & Adventure : 0.03%\n",
      "Adventure;Action & Adventure : 0.03%\n",
      "Video Players & Editors;Music & Video : 0.02%\n",
      "Sports;Action & Adventure : 0.02%\n",
      "Simulation;Pretend Play : 0.02%\n",
      "Puzzle;Creativity : 0.02%\n",
      "Music;Music & Video : 0.02%\n",
      "Entertainment;Pretend Play : 0.02%\n",
      "Casual;Education : 0.02%\n",
      "Board;Action & Adventure : 0.02%\n",
      "Video Players & Editors;Creativity : 0.01%\n",
      "Trivia;Education : 0.01%\n",
      "Travel & Local;Action & Adventure : 0.01%\n",
      "Tools;Education : 0.01%\n",
      "Strategy;Education : 0.01%\n",
      "Strategy;Creativity : 0.01%\n",
      "Strategy;Action & Adventure : 0.01%\n",
      "Simulation;Education : 0.01%\n",
      "Role Playing;Brain Games : 0.01%\n",
      "Racing;Pretend Play : 0.01%\n",
      "Puzzle;Education : 0.01%\n",
      "Parenting;Brain Games : 0.01%\n",
      "Music & Audio;Music & Video : 0.01%\n",
      "Lifestyle;Pretend Play : 0.01%\n",
      "Lifestyle;Education : 0.01%\n",
      "Health & Fitness;Education : 0.01%\n",
      "Health & Fitness;Action & Adventure : 0.01%\n",
      "Entertainment;Education : 0.01%\n",
      "Communication;Creativity : 0.01%\n",
      "Comics;Creativity : 0.01%\n",
      "Casual;Music & Video : 0.01%\n",
      "Card;Action & Adventure : 0.01%\n",
      "Books & Reference;Education : 0.01%\n",
      "Art & Design;Pretend Play : 0.01%\n",
      "Art & Design;Action & Adventure : 0.01%\n",
      "Arcade;Pretend Play : 0.01%\n",
      "Adventure;Education : 0.01%\n"
     ]
    }
   ],
   "source": [
    "display_table(android_final, -4)"
   ]
  },
  {
   "cell_type": "markdown",
   "id": "fc11005f-93e7-4470-a77b-2285580a6d0b",
   "metadata": {},
   "source": [
    "The difference between the `Genres` and the `Category` columns is not crystal clear, but one thing we can notice is that the `Genres` column is much more granular (it has more categories). We're only looking for the bigger picture at the moment, so we'll only work with the `Category` column moving forward.\n",
    "\n",
    "Up to this point, we found that the App Store is dominated by apps designed for fun, while Google Play shows a more balanced landscape of both practical and for-fun apps. Now we'd like to get an idea about the kind of apps that have most users.\n",
    "\n",
    "## Most Popular Apps by Genre on the App Store\n",
    "\n",
    "One way to find out what genres are the most popular (have the most users) is to calculate the average number of installs for each app genre. For the Google Play data set, we can find this information in the `Installs` column, but for the App Store data set this information is missing. As a workaround, we'll take the total number of user ratings as a proxy, which we can find in the `rating_count_tot` app.\n",
    "\n",
    "Below, we calculate the average number of user ratings per app genre on the App Store:\n"
   ]
  },
  {
   "cell_type": "code",
   "execution_count": 134,
   "id": "850d4b1a-3f5b-4d2e-8b49-51c222fb423b",
   "metadata": {},
   "outputs": [
    {
     "name": "stdout",
     "output_type": "stream",
     "text": [
      "Social Networking : 71548.35\n",
      "Photo & Video : 28441.54\n",
      "Games : 22788.67\n",
      "Music : 57326.53\n",
      "Reference : 74942.11\n",
      "Health & Fitness : 23298.02\n",
      "Weather : 52279.89\n",
      "Utilities : 18684.46\n",
      "Travel : 28243.8\n",
      "Shopping : 26919.69\n",
      "News : 21248.02\n",
      "Navigation : 86090.33\n",
      "Lifestyle : 16485.76\n",
      "Entertainment : 14029.83\n",
      "Food & Drink : 33333.92\n",
      "Sports : 23008.9\n",
      "Book : 39758.5\n",
      "Finance : 31467.94\n",
      "Education : 7003.98\n",
      "Productivity : 21028.41\n",
      "Business : 7491.12\n",
      "Catalogs : 4004.0\n",
      "Medical : 612.0\n"
     ]
    }
   ],
   "source": [
    "genre_ios = freq_table(ios_final, -5)\n",
    "\n",
    "for genre in genre_ios:\n",
    "    total = 0\n",
    "    len_genre = 0\n",
    "    for app in ios_final:\n",
    "        genre_app = app[-5]\n",
    "        if genre_app == genre:\n",
    "            n_ratings = float(app[5])\n",
    "            total += n_ratings\n",
    "            len_genre += 1\n",
    "    avg_n_ratings = total / len_genre\n",
    "    print(f'{genre} : {round(avg_n_ratings, 2)}')"
   ]
  },
  {
   "cell_type": "markdown",
   "id": "9fb962de-c772-48fe-b087-a49db8a27dde",
   "metadata": {},
   "source": [
    "On average, navigation apps have the highest number of user reviews, but this figure is heavily influenced by Waze and Google Maps, which have close to half a million user reviews together:"
   ]
  },
  {
   "cell_type": "code",
   "execution_count": 141,
   "id": "9a5f1438-9b94-4153-8c77-8727a2fc977e",
   "metadata": {},
   "outputs": [
    {
     "name": "stdout",
     "output_type": "stream",
     "text": [
      "Waze - GPS Navigation, Maps & Real-time Traffic : 345046\n",
      "Google Maps - Navigation & Transit : 154911\n",
      "Geocaching® : 12811\n",
      "CoPilot GPS – Car Navigation & Offline Maps : 3582\n",
      "ImmobilienScout24: Real Estate Search in Germany : 187\n",
      "Railway Route Search : 5\n"
     ]
    }
   ],
   "source": [
    "for app in ios_final:\n",
    "    if app[-5] == 'Navigation':\n",
    "        print(f'{app[1]} : {app[5]}')"
   ]
  },
  {
   "cell_type": "markdown",
   "id": "292dc27a-f361-4853-8e0c-518df5c985cd",
   "metadata": {},
   "source": [
    "## Most Popular Apps by Genre on Google Play\n",
    "\n",
    "For the Google Play market, we actually have data about the number of installs, so we should be able to get a clearer picture about genre popularity. However, the install numbers don't seem precise enough — we can see that most values are open-ended (100+, 1,000+, 5,000+, etc.):"
   ]
  },
  {
   "cell_type": "code",
   "execution_count": 144,
   "id": "9c445971-d5b0-495e-adb8-7eb35793e4c8",
   "metadata": {},
   "outputs": [
    {
     "name": "stdout",
     "output_type": "stream",
     "text": [
      "1,000,000+ : 15.73%\n",
      "100,000+ : 11.55%\n",
      "10,000,000+ : 10.55%\n",
      "10,000+ : 10.2%\n",
      "1,000+ : 8.39%\n",
      "100+ : 6.92%\n",
      "5,000,000+ : 6.83%\n",
      "500,000+ : 5.56%\n",
      "50,000+ : 4.77%\n",
      "5,000+ : 4.51%\n",
      "10+ : 3.54%\n",
      "500+ : 3.25%\n",
      "50,000,000+ : 2.3%\n",
      "100,000,000+ : 2.13%\n",
      "50+ : 1.92%\n",
      "5+ : 0.79%\n",
      "1+ : 0.51%\n",
      "500,000,000+ : 0.27%\n",
      "1,000,000,000+ : 0.23%\n",
      "0+ : 0.05%\n",
      "0 : 0.01%\n"
     ]
    }
   ],
   "source": [
    "display_table(android_final, 5)"
   ]
  },
  {
   "cell_type": "markdown",
   "id": "afda1d19-9b71-49f3-b6be-ebb2fb11d20d",
   "metadata": {},
   "source": [
    "We're going to leave the numbers as they are, which means that we'll consider that an app with 100,000+ installs has 100,000 installs, and an app with 1,000,000+ installs has 1,000,000 installs, and so on.\n",
    "\n",
    "To perform computations, however, we'll need to convert each install number to float — this means that we need to remove the commas and the plus characters, otherwise the conversion will fail and raise an error. We'll do this directly in the loop below, where we also compute the average number of installs for each genre (category)."
   ]
  },
  {
   "cell_type": "code",
   "execution_count": 148,
   "id": "afd8d8fc-9fb6-4563-9691-b7bd74058af5",
   "metadata": {},
   "outputs": [
    {
     "name": "stdout",
     "output_type": "stream",
     "text": [
      "ART_AND_DESIGN : 1986335.09\n",
      "AUTO_AND_VEHICLES : 647317.82\n",
      "BEAUTY : 513151.89\n",
      "BOOKS_AND_REFERENCE : 8767811.89\n",
      "BUSINESS : 1712290.15\n",
      "COMICS : 817657.27\n",
      "COMMUNICATION : 38456119.17\n",
      "DATING : 854028.83\n",
      "EDUCATION : 1833495.15\n",
      "ENTERTAINMENT : 11640705.88\n",
      "EVENTS : 253542.22\n",
      "FINANCE : 1387692.48\n",
      "FOOD_AND_DRINK : 1924897.74\n",
      "HEALTH_AND_FITNESS : 4188821.99\n",
      "HOUSE_AND_HOME : 1331540.56\n",
      "LIBRARIES_AND_DEMO : 638503.73\n",
      "LIFESTYLE : 1437816.27\n",
      "GAME : 15588015.6\n",
      "FAMILY : 3695641.82\n",
      "MEDICAL : 120550.62\n",
      "SOCIAL : 23253652.13\n",
      "SHOPPING : 7036877.31\n",
      "PHOTOGRAPHY : 17840110.4\n",
      "SPORTS : 3638640.14\n",
      "TRAVEL_AND_LOCAL : 13984077.71\n",
      "TOOLS : 10801391.3\n",
      "PERSONALIZATION : 5201482.61\n",
      "PRODUCTIVITY : 16787331.34\n",
      "PARENTING : 542603.62\n",
      "WEATHER : 5074486.2\n",
      "VIDEO_PLAYERS : 24727872.45\n",
      "NEWS_AND_MAGAZINES : 9549178.47\n",
      "MAPS_AND_NAVIGATION : 4056941.77\n"
     ]
    }
   ],
   "source": [
    "category_android = freq_table(android_final, 1)\n",
    "\n",
    "for category in category_android:\n",
    "    total = 0\n",
    "    len_category = 0\n",
    "    for app in android_final:\n",
    "        category_app = app[1]\n",
    "        if category_app == category:\n",
    "            n_installs = app[5]\n",
    "            n_installs = n_installs.replace(',', '')\n",
    "            n_installs = n_installs.replace('+', '')\n",
    "            total += float(n_installs)\n",
    "            len_category += 1\n",
    "    avg_n_installs = total / len_category\n",
    "    print(f'{category} : {round(avg_n_installs, 2)}')"
   ]
  },
  {
   "cell_type": "markdown",
   "id": "e5a10519-d86d-483b-a8dc-67c25cb82943",
   "metadata": {},
   "source": [
    "On average, communication apps have the most installs: 38,456,119. This number is heavily skewed up by a few apps that have over one billion installs (WhatsApp, Facebook Messenger, Skype, Google Chrome, Gmail, and Hangouts), and a few others with over 100 and 500 million installs.\n",
    "\n",
    "## Conclusion\n",
    "\n",
    "In this project, we analyzed data about the App Store and Google Play mobile apps with the goal of recommending an app profile that can be profitable for both markets."
   ]
  }
 ],
 "metadata": {
  "kernelspec": {
   "display_name": "Python 3 (ipykernel)",
   "language": "python",
   "name": "python3"
  },
  "language_info": {
   "codemirror_mode": {
    "name": "ipython",
    "version": 3
   },
   "file_extension": ".py",
   "mimetype": "text/x-python",
   "name": "python",
   "nbconvert_exporter": "python",
   "pygments_lexer": "ipython3",
   "version": "3.12.4"
  }
 },
 "nbformat": 4,
 "nbformat_minor": 5
}
