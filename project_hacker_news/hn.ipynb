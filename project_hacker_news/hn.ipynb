{
 "cells": [
  {
   "cell_type": "markdown",
   "id": "a1c71ef6-2217-438c-818c-f2feb21f67b4",
   "metadata": {},
   "source": [
    "# Hacker News Analysis\n",
    "\n",
    "## Introduction\n",
    "\n",
    "Hacker News is a site started by the startup incubator Y Combinator, where user-submitted stories (known as \"posts\") receive votes and comments, similar to reddit. Hacker News is extremely popular in technology and startup circles, and posts that make it to the top of the Hacker News listings can get hundreds of thousands of visitors as a result.\n",
    "\n",
    "We're interested in posts with titles that begin with either `Ask HN` or `Show HN`. Users submit `Ask HN` posts to ask the Hacker News community a specific question. Likewise, users submit `Show HN` posts to show the Hacker News community a project, product, or just something interesting.\n",
    "\n",
    "We will start by reading the `hacker_news.csv` file:"
   ]
  },
  {
   "cell_type": "code",
   "execution_count": 26,
   "id": "d4b57b80-03b3-4bda-bbc2-ade90135c4e6",
   "metadata": {},
   "outputs": [
    {
     "name": "stdout",
     "output_type": "stream",
     "text": [
      "['id', 'title', 'url', 'num_points', 'num_comments', 'author', 'created_at']\n",
      "\n",
      "\n",
      "['12224879', 'Interactive Dynamic Video', 'http://www.interactivedynamicvideo.com/', '386', '52', 'ne0phyte', '8/4/2016 11:52']\n",
      "\n",
      "\n",
      "['10975351', 'How to Use Open Source and Shut the Fuck Up at the Same Time', 'http://hueniverse.com/2016/01/26/how-to-use-open-source-and-shut-the-fuck-up-at-the-same-time/', '39', '10', 'josep2', '1/26/2016 19:30']\n",
      "\n",
      "\n",
      "['11964716', \"Florida DJs May Face Felony for April Fools' Water Joke\", 'http://www.thewire.com/entertainment/2013/04/florida-djs-april-fools-water-joke/63798/', '2', '1', 'vezycash', '6/23/2016 22:20']\n",
      "\n",
      "\n",
      "['11919867', 'Technology ventures: From Idea to Enterprise', 'https://www.amazon.com/Technology-Ventures-Enterprise-Thomas-Byers/dp/0073523429', '3', '1', 'hswarna', '6/17/2016 0:01']\n",
      "\n",
      "\n",
      "['10301696', 'Note by Note: The Making of Steinway L1037 (2007)', 'http://www.nytimes.com/2007/11/07/movies/07stein.html?_r=0', '8', '2', 'walterbell', '9/30/2015 4:12']\n",
      "\n",
      "\n"
     ]
    }
   ],
   "source": [
    "from csv import reader\n",
    "\n",
    "with open('hacker_news.csv') as raw_file:\n",
    "    raw_file_read = reader(raw_file)\n",
    "    hn = list(raw_file_read)\n",
    "\n",
    "# Separating header from content\n",
    "hn_headers = hn[0]\n",
    "hn = hn[1:]\n",
    "\n",
    "# Display the table\n",
    "print(hn_headers)\n",
    "print('\\n')\n",
    "for row in hn[:5]:\n",
    "    print(row)\n",
    "    print('\\n')"
   ]
  },
  {
   "cell_type": "markdown",
   "id": "3c819372-cfe5-4f8d-b8af-0e76e3fded2a",
   "metadata": {},
   "source": [
    "## Extracting Ask HN and Show HN Posts\n",
    "\n",
    "Let's separate posts beginning with `Ask HN` and `Show HN` (and case variations) into two different lists."
   ]
  },
  {
   "cell_type": "code",
   "execution_count": 53,
   "id": "fffff3dc-7170-4a2b-8d80-d98c5d38ccad",
   "metadata": {},
   "outputs": [
    {
     "name": "stdout",
     "output_type": "stream",
     "text": [
      "Ask posts  : 1744\n",
      "Show posts : 1162\n",
      "Other posts: 17194\n",
      "------------------\n",
      "Total posts: 20100\n"
     ]
    }
   ],
   "source": [
    "ask_posts = []\n",
    "show_posts = []\n",
    "other_posts = []\n",
    "\n",
    "for row in hn:\n",
    "    title = row[1].lower()\n",
    "    if title.startswith('ask hn'):\n",
    "        ask_posts.append(row)\n",
    "    elif title.startswith('show hn'):\n",
    "        show_posts.append(row)\n",
    "    else:\n",
    "        other_posts.append(row)\n",
    "\n",
    "print(f'Ask posts  : {len(ask_posts)}')\n",
    "print(f'Show posts : {len(show_posts)}')\n",
    "print(f'Other posts: {len(other_posts)}')\n",
    "print('------------------')\n",
    "print(f'Total posts: {len(hn)}')"
   ]
  },
  {
   "cell_type": "markdown",
   "id": "70d472f7-73d2-4a67-a593-c504d77ad2a0",
   "metadata": {},
   "source": [
    "## Calculating the Average Number of Comments for Ask HN and Show HN Posts\n",
    "\n",
    "Next, let's determine if ask posts or show posts receive more comments on average."
   ]
  },
  {
   "cell_type": "code",
   "execution_count": 65,
   "id": "fad95440-909d-42e8-9346-f9cd954ba44b",
   "metadata": {},
   "outputs": [
    {
     "name": "stdout",
     "output_type": "stream",
     "text": [
      "Average number of comments for Ask HN: 14\n",
      "Average number of comments for Show HN: 10\n"
     ]
    }
   ],
   "source": [
    "# Calculation for Ask comments\n",
    "total_ask_comments = 0\n",
    "for post in ask_posts:\n",
    "    total_ask_comments += int(post[4])\n",
    "\n",
    "avg_ask_comments = total_ask_comments / len(ask_posts)\n",
    "print(f'Average number of comments for Ask HN: {int(avg_ask_comments)}')\n",
    "\n",
    "# Calculation for Show comments\n",
    "total_show_comments = 0\n",
    "for post in show_posts:\n",
    "    total_show_comments += int(post[4])\n",
    "\n",
    "avg_show_comments = total_show_comments / len(show_posts)\n",
    "\n",
    "print(f'Average number of comments for Show HN: {int(avg_show_comments)}')\n"
   ]
  },
  {
   "cell_type": "markdown",
   "id": "9b1e2443-fc05-41ce-9c75-8d1cea6388d9",
   "metadata": {},
   "source": [
    "From these results we can see that `Ask HN` posts get more comments on average than `Show HN` posts.\n",
    "Since ask posts are more likely to receive comments, we'll focus our remaining analysis just on these posts. \n",
    "\n",
    "## Finding and Calculating the Number of Ask Posts and Comments by Hour Created\n",
    "\n",
    "Next, we'll determine if ask posts created at a certain time are more likely to attract comments."
   ]
  },
  {
   "cell_type": "code",
   "execution_count": 120,
   "id": "c02d2184-902b-440b-a118-dc5134e8636b",
   "metadata": {},
   "outputs": [
    {
     "name": "stdout",
     "output_type": "stream",
     "text": [
      "['09', 5.58]\n",
      "['13', 14.74]\n",
      "['10', 13.44]\n",
      "['14', 13.23]\n",
      "['16', 16.8]\n",
      "['23', 7.99]\n",
      "['12', 9.41]\n",
      "['17', 11.46]\n",
      "['15', 38.59]\n",
      "['21', 16.01]\n",
      "['20', 21.52]\n",
      "['02', 23.81]\n",
      "['18', 13.2]\n",
      "['03', 7.8]\n",
      "['05', 10.09]\n",
      "['19', 10.8]\n",
      "['01', 11.38]\n",
      "['22', 6.75]\n",
      "['08', 10.25]\n",
      "['04', 7.17]\n",
      "['00', 8.13]\n",
      "['06', 9.02]\n",
      "['07', 7.85]\n",
      "['11', 11.05]\n"
     ]
    }
   ],
   "source": [
    "# Calculate the number of ask posts and comments by hour created\n",
    "import datetime as dt\n",
    "\n",
    "result_list = []\n",
    "counts_by_hour = {}\n",
    "comments_by_hour = {}\n",
    "\n",
    "for post in ask_posts:\n",
    "    result_list.append([post[6], int(post[4])])\n",
    "\n",
    "for row in result_list:\n",
    "    date_time_str = row[0]\n",
    "    date_time = dt.datetime.strptime(date_time_str, '%m/%d/%Y %H:%M')\n",
    "    hour = date_time.strftime('%H')\n",
    "\n",
    "    if hour not in counts_by_hour:\n",
    "        counts_by_hour[hour] = 1\n",
    "        comments_by_hour[hour] = row[1]\n",
    "    else:\n",
    "        counts_by_hour[hour] += 1\n",
    "        comments_by_hour[hour] += row[1]\n",
    "        \n",
    "# Calculate the average number of comments per post for posrts created during each hour\n",
    "avg_by_hour = []\n",
    "\n",
    "for hour in comments_by_hour:\n",
    "    for hours in counts_by_hour:\n",
    "        if hour == hours:\n",
    "            avg_by_hour.append([hour, round(comments_by_hour[hour] / counts_by_hour[hours], 2)])\n",
    "\n",
    "for row in avg_by_hour:\n",
    "    print(row)"
   ]
  },
  {
   "cell_type": "markdown",
   "id": "62be24a6-e353-4564-8664-9e74edebed9e",
   "metadata": {},
   "source": [
    "Let's now sort the list and print the five highest values:"
   ]
  },
  {
   "cell_type": "code",
   "execution_count": 149,
   "id": "de69b96e-3f3e-41c3-99de-0a0d9b444972",
   "metadata": {},
   "outputs": [
    {
     "name": "stdout",
     "output_type": "stream",
     "text": [
      "Top 5 Hours for Ask Posts Comments\n",
      "\n",
      "15:00 : 38.59 average comments per post\n",
      "02:00 : 23.81 average comments per post\n",
      "20:00 : 21.52 average comments per post\n",
      "16:00 : 16.8 average comments per post\n",
      "21:00 : 16.01 average comments per post\n"
     ]
    }
   ],
   "source": [
    "swap_avg_by_hour = []\n",
    "\n",
    "for row in avg_by_hour:\n",
    "    swap_avg_by_hour.append([row[1], row[0]])\n",
    "\n",
    "sorted_swap = sorted(swap_avg_by_hour, reverse=True)\n",
    "\n",
    "print(\"Top 5 Hours for Ask Posts Comments\\n\")\n",
    "for row in sorted_swap[:5]:\n",
    "    hour_dt = dt.datetime.strptime(row[1], '%H')\n",
    "    hour = hour_dt.strftime('%H:%M')\n",
    "    print(f'{hour} : {row[0]} average comments per post')"
   ]
  },
  {
   "cell_type": "markdown",
   "id": "8bbfcd35-598b-4ed9-b6c6-95413041be11",
   "metadata": {},
   "source": [
    "## Conclusion\n",
    "\n",
    "In our analysis, we found that Ask HN posts receive more comments than Show HN posts. We further explored this and discovered that posts made at certain times, particularly around 15:00, are more likely to receive a higher number of comments."
   ]
  }
 ],
 "metadata": {
  "kernelspec": {
   "display_name": "Python 3 (ipykernel)",
   "language": "python",
   "name": "python3"
  },
  "language_info": {
   "codemirror_mode": {
    "name": "ipython",
    "version": 3
   },
   "file_extension": ".py",
   "mimetype": "text/x-python",
   "name": "python",
   "nbconvert_exporter": "python",
   "pygments_lexer": "ipython3",
   "version": "3.12.4"
  }
 },
 "nbformat": 4,
 "nbformat_minor": 5
}
